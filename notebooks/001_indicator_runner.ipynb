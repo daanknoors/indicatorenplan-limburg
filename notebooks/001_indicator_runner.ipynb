{
 "cells": [
  {
   "cell_type": "markdown",
   "id": "7ff4d256",
   "metadata": {},
   "source": [
    "# Indicator Runner\n",
    "Run a selection of metrics based on config file."
   ]
  },
  {
   "cell_type": "code",
   "execution_count": 6,
   "id": "2c9a03e1",
   "metadata": {},
   "outputs": [],
   "source": [
    "import pandas as pd\n",
    "from pathlib import Path\n",
    "import matplotlib.pyplot as plt\n",
    "import seaborn as sns"
   ]
  },
  {
   "cell_type": "code",
   "execution_count": 7,
   "id": "21bdf80a",
   "metadata": {},
   "outputs": [
    {
     "name": "stdout",
     "output_type": "stream",
     "text": [
      "The autoreload extension is already loaded. To reload it, use:\n",
      "  %reload_ext autoreload\n"
     ]
    }
   ],
   "source": [
    "# autoreload changes from local files\n",
    "%load_ext autoreload\n",
    "%autoreload 2\n",
    "\n",
    "# pandas show full output\n",
    "pd.set_option('display.max_rows', 500)\n",
    "pd.set_option('display.max_columns', 200)"
   ]
  },
  {
   "cell_type": "code",
   "execution_count": 8,
   "id": "b079ed25",
   "metadata": {},
   "outputs": [],
   "source": [
    "from indicatorenplan_limburg.configs.settings import load_yaml_config\n",
    "from indicatorenplan_limburg.system.registry import IndicatorRegistry\n",
    "from indicatorenplan_limburg.system.runner import IndicatorRunner"
   ]
  },
  {
   "cell_type": "markdown",
   "id": "5edb6468",
   "metadata": {},
   "source": [
    "## Config\n",
    "First we load and inspect the config. This contains all settings to be used for the system, including paths, runner settings and indicator-specific configuration. \n",
    "\n",
    "We separate these into a separate configuration file in YAML format to ensure that people without python knowledge can easily see and adapt configuration settings without delving into the codebase."
   ]
  },
  {
   "cell_type": "code",
   "execution_count": 9,
   "id": "2eedc0f9",
   "metadata": {},
   "outputs": [
    {
     "data": {
      "text/plain": [
       "{'paths': {'repo': '~/projects/indicatorenplan_limburg',\n",
       "  'data': '~/data/Indicatorenplan-limburg'},\n",
       " 'runner': {'years': [2023, 2027], 'compute': ['toekomstbestendige_economie']},\n",
       " 'indicators': {'toekomstbestendige_economie': {'MO7i': {'name': 'MO_7i Vestigingen per grootteklasse per sector',\n",
       "    'grootteklasse': \"('0_9', '10_49', '50_99', '100_249', '250_9999')\",\n",
       "    'metadata': ['onderwerpen',\n",
       "     'dim_sbi',\n",
       "     'dim_grootteklasse',\n",
       "     'dim_geoitem']},\n",
       "   'D21a': {'name': 'D_21a Aantal MKB bedrijven in Limburg met proces- en productinnovaties'}}}}"
      ]
     },
     "execution_count": 9,
     "metadata": {},
     "output_type": "execute_result"
    }
   ],
   "source": [
    "config = load_yaml_config()\n",
    "config"
   ]
  },
  {
   "cell_type": "markdown",
   "id": "4d8bd58f",
   "metadata": {},
   "source": [
    "## Runner"
   ]
  },
  {
   "cell_type": "markdown",
   "id": "7df4365e",
   "metadata": {},
   "source": [
    "Let's first inspect which indicators have been implemented so far by consulting the registry."
   ]
  },
  {
   "cell_type": "code",
   "execution_count": 10,
   "id": "b4e6cd2e",
   "metadata": {},
   "outputs": [
    {
     "data": {
      "text/plain": [
       "{'d21a': indicatorenplan_limburg.indicatoren.toekomstbestendige_economie.d_21a.IndicatorD21a,\n",
       " 'mo7i': indicatorenplan_limburg.indicatoren.toekomstbestendige_economie.mo_7i.IndicatorMO7i}"
      ]
     },
     "execution_count": 10,
     "metadata": {},
     "output_type": "execute_result"
    }
   ],
   "source": [
    "# first we need to discover all indicators in the repository\n",
    "IndicatorRegistry.discover_indicators('toekomstbestendige_economie')\n",
    "# then we can load the registry\n",
    "registry = IndicatorRegistry.get_registry()\n",
    "registry\n"
   ]
  },
  {
   "cell_type": "code",
   "execution_count": 18,
   "id": "5850aba1",
   "metadata": {},
   "outputs": [
    {
     "ename": "AttributeError",
     "evalue": "type object 'IndicatorD21a' has no attribute 'category'",
     "output_type": "error",
     "traceback": [
      "\u001b[31m---------------------------------------------------------------------------\u001b[39m",
      "\u001b[31mAttributeError\u001b[39m                            Traceback (most recent call last)",
      "\u001b[36mCell\u001b[39m\u001b[36m \u001b[39m\u001b[32mIn[18]\u001b[39m\u001b[32m, line 1\u001b[39m\n\u001b[32m----> \u001b[39m\u001b[32m1\u001b[39m \u001b[43mIndicatorRunner\u001b[49m\u001b[43m(\u001b[49m\u001b[43m)\u001b[49m.run()\n",
      "\u001b[36mFile \u001b[39m\u001b[32m<string>:7\u001b[39m, in \u001b[36m__init__\u001b[39m\u001b[34m(self, config)\u001b[39m\n",
      "\u001b[31mAttributeError\u001b[39m: type object 'IndicatorD21a' has no attribute 'category'"
     ]
    }
   ],
   "source": [
    "IndicatorRunner().run()"
   ]
  },
  {
   "cell_type": "code",
   "execution_count": 16,
   "id": "4823fcd1",
   "metadata": {},
   "outputs": [
    {
     "data": {
      "text/plain": [
       "['toekomstbestendige_economie']"
      ]
     },
     "execution_count": 16,
     "metadata": {},
     "output_type": "execute_result"
    }
   ],
   "source": [
    "config['runner']['compute']"
   ]
  },
  {
   "cell_type": "code",
   "execution_count": 20,
   "id": "453e1785",
   "metadata": {},
   "outputs": [
    {
     "data": {
      "text/plain": [
       "'toekomstbestendige_economie'"
      ]
     },
     "execution_count": 20,
     "metadata": {},
     "output_type": "execute_result"
    }
   ],
   "source": [
    "registry['d21a']().category"
   ]
  },
  {
   "cell_type": "code",
   "execution_count": null,
   "id": "a38f448b",
   "metadata": {},
   "outputs": [],
   "source": []
  }
 ],
 "metadata": {
  "kernelspec": {
   "display_name": "indicatorenplan-limburg-8JyB5Tk6-py3.12",
   "language": "python",
   "name": "python3"
  },
  "language_info": {
   "codemirror_mode": {
    "name": "ipython",
    "version": 3
   },
   "file_extension": ".py",
   "mimetype": "text/x-python",
   "name": "python",
   "nbconvert_exporter": "python",
   "pygments_lexer": "ipython3",
   "version": "3.12.9"
  }
 },
 "nbformat": 4,
 "nbformat_minor": 5
}
